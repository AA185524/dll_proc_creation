{
 "cells": [
  {
   "cell_type": "code",
   "execution_count": 1,
   "id": "065873ae",
   "metadata": {},
   "outputs": [
    {
     "name": "stdout",
     "output_type": "stream",
     "text": [
      "-- banking_bu_alignment\n",
      "insert into adle_platform_orchestration.elt_table_config (datasubject,classification,sourcesystem,sourceschema,tablename,ingest_channel,file_type,ingest_partition,layer,container,stg_file_type,sequence_nbr,stg_file_format,cycle,tgt_file_format,initial_flag,is_fullrefresh)\n",
      "values('product','confidential','pmdm','pmdm','banking_bu_alignment','iics-mi','parquet','1900-00-00-00','trans','stg','parquet', 29 ,'parquet_none','daily','same_as_source',0,'N');\n",
      "\n",
      "-- original_corporation\n",
      "insert into adle_platform_orchestration.elt_table_config (datasubject,classification,sourcesystem,sourceschema,tablename,ingest_channel,file_type,ingest_partition,layer,container,stg_file_type,sequence_nbr,stg_file_format,cycle,tgt_file_format,initial_flag,is_fullrefresh)\n",
      "values('product','confidential','pmdm','pmdm','original_corporation','iics-mi','parquet','1900-00-00-00','trans','stg','parquet', 30 ,'parquet_none','daily','same_as_source',0,'N');\n",
      "\n"
     ]
    }
   ],
   "source": [
    "#trans configs\n",
    "list1=[]\n",
    "with open('untitled.txt') as inp:\n",
    "    for line in inp:\n",
    "        list1.append(line.strip())\n",
    "for index, i in enumerate(list1):\n",
    "    print('--',i)\n",
    "    print(\"insert into adle_platform_orchestration.elt_table_config (datasubject,classification,sourcesystem,sourceschema,tablename,ingest_channel,file_type,ingest_partition,layer,container,stg_file_type,sequence_nbr,stg_file_format,cycle,tgt_file_format,initial_flag,is_fullrefresh)\")\n",
    "    print(\"values('product','confidential','pmdm','pmdm','\"+i+\"','iics-mi','parquet','1900-00-00-00','trans','stg','parquet',\",index+29,\",'parquet_none','daily','same_as_source',0,'N');\")\n",
    "    print()"
   ]
  },
  {
   "cell_type": "code",
   "execution_count": 1,
   "id": "5c4d54ad",
   "metadata": {},
   "outputs": [
    {
     "name": "stdout",
     "output_type": "stream",
     "text": [
      "-- dim_annuity_sid_detail\n",
      "insert into adle_platform_orchestration.elt_table_config (datasubject,classification,sourcesystem,sourceschema,tablename,ingest_partition,layer,container,sequence_nbr,cycle,tgt_file_format,initial_flag,is_fullrefresh,env_tag)\n",
      "values('product','confidential','trans','gsdb','dim_annuity_sid_detail','1900-00-00-00','hub','hub', 10 ,'daily','same_as_source',0,'N','NCR');\n",
      "\n",
      "-- dim_package\n",
      "insert into adle_platform_orchestration.elt_table_config (datasubject,classification,sourcesystem,sourceschema,tablename,ingest_partition,layer,container,sequence_nbr,cycle,tgt_file_format,initial_flag,is_fullrefresh,env_tag)\n",
      "values('product','confidential','trans','gsdb','dim_package','1900-00-00-00','hub','hub', 11 ,'daily','same_as_source',0,'N','NCR');\n",
      "\n",
      "-- dim_sub_package\n",
      "insert into adle_platform_orchestration.elt_table_config (datasubject,classification,sourcesystem,sourceschema,tablename,ingest_partition,layer,container,sequence_nbr,cycle,tgt_file_format,initial_flag,is_fullrefresh,env_tag)\n",
      "values('product','confidential','trans','gsdb','dim_sub_package','1900-00-00-00','hub','hub', 12 ,'daily','same_as_source',0,'N','NCR');\n",
      "\n",
      "-- dim_warranty_wid_detail\n",
      "insert into adle_platform_orchestration.elt_table_config (datasubject,classification,sourcesystem,sourceschema,tablename,ingest_partition,layer,container,sequence_nbr,cycle,tgt_file_format,initial_flag,is_fullrefresh,env_tag)\n",
      "values('product','confidential','trans','gsdb','dim_warranty_wid_detail','1900-00-00-00','hub','hub', 13 ,'daily','same_as_source',0,'N','NCR');\n",
      "\n",
      "-- rel_package_sub_package\n",
      "insert into adle_platform_orchestration.elt_table_config (datasubject,classification,sourcesystem,sourceschema,tablename,ingest_partition,layer,container,sequence_nbr,cycle,tgt_file_format,initial_flag,is_fullrefresh,env_tag)\n",
      "values('product','confidential','trans','gsdb','rel_package_sub_package','1900-00-00-00','hub','hub', 14 ,'daily','same_as_source',0,'N','NCR');\n",
      "\n",
      "-- rel_product_pid\n",
      "insert into adle_platform_orchestration.elt_table_config (datasubject,classification,sourcesystem,sourceschema,tablename,ingest_partition,layer,container,sequence_nbr,cycle,tgt_file_format,initial_flag,is_fullrefresh,env_tag)\n",
      "values('product','confidential','trans','gsdb','rel_product_pid','1900-00-00-00','hub','hub', 15 ,'daily','same_as_source',0,'N','NCR');\n",
      "\n",
      "-- rel_sub_package_pid\n",
      "insert into adle_platform_orchestration.elt_table_config (datasubject,classification,sourcesystem,sourceschema,tablename,ingest_partition,layer,container,sequence_nbr,cycle,tgt_file_format,initial_flag,is_fullrefresh,env_tag)\n",
      "values('product','confidential','trans','gsdb','rel_sub_package_pid','1900-00-00-00','hub','hub', 16 ,'daily','same_as_source',0,'N','NCR');\n",
      "\n"
     ]
    }
   ],
   "source": [
    "#hub configs\n",
    "list1=[]\n",
    "with open('untitled.txt') as inp:\n",
    "    for line in inp:\n",
    "        list1.append(line.strip())\n",
    "for index, i in enumerate(list1):\n",
    "    print('--',i)\n",
    "    print(\"insert into adle_platform_orchestration.elt_table_config (datasubject,classification,sourcesystem,sourceschema,tablename,ingest_partition,layer,container,sequence_nbr,cycle,tgt_file_format,initial_flag,is_fullrefresh,env_tag)\")\n",
    "    print(\"values('product','confidential','trans','gsdb','\"+i+\"','1900-00-00-00','hub','hub',\",index+10,\",'daily','same_as_source',0,'N','NCR');\")\n",
    "    print()"
   ]
  },
  {
   "cell_type": "code",
   "execution_count": 14,
   "id": "ac794f0d",
   "metadata": {},
   "outputs": [
    {
     "name": "stdout",
     "output_type": "stream",
     "text": [
      "SELECT * INTO trans_product_pmdm_pmdm. banking_bu_alignment _bkp_20_07_23 from trans_product_pmdm_pmdm. banking_bu_alignment\n",
      "SELECT * INTO trans_product_pmdm_pmdm. hierarchy_detail _bkp_20_07_23 from trans_product_pmdm_pmdm. hierarchy_detail\n",
      "SELECT * INTO trans_product_pmdm_pmdm. hierarchy_product_relationship _bkp_20_07_23 from trans_product_pmdm_pmdm. hierarchy_product_relationship\n",
      "SELECT * INTO trans_product_pmdm_pmdm. market_product _bkp_20_07_23 from trans_product_pmdm_pmdm. market_product\n",
      "SELECT * INTO trans_product_pmdm_pmdm. market_product_attributes _bkp_20_07_23 from trans_product_pmdm_pmdm. market_product_attributes\n",
      "SELECT * INTO trans_product_pmdm_pmdm. master_hierarchy _bkp_20_07_23 from trans_product_pmdm_pmdm. master_hierarchy\n",
      "SELECT * INTO trans_product_pmdm_pmdm. original_corporation _bkp_20_07_23 from trans_product_pmdm_pmdm. original_corporation\n",
      "SELECT * INTO trans_product_pmdm_pmdm. package_details _bkp_20_07_23 from trans_product_pmdm_pmdm. package_details\n",
      "SELECT * INTO trans_product_pmdm_pmdm. package_sub_package_relationship _bkp_20_07_23 from trans_product_pmdm_pmdm. package_sub_package_relationship\n",
      "SELECT * INTO trans_product_pmdm_pmdm. product_plm_phase _bkp_20_07_23 from trans_product_pmdm_pmdm. product_plm_phase\n",
      "SELECT * INTO trans_product_pmdm_pmdm. product_status _bkp_20_07_23 from trans_product_pmdm_pmdm. product_status\n",
      "SELECT * INTO trans_product_pmdm_pmdm. revenue_type _bkp_20_07_23 from trans_product_pmdm_pmdm. revenue_type\n",
      "SELECT * INTO trans_product_pmdm_pmdm. sub_package_details _bkp_20_07_23 from trans_product_pmdm_pmdm. sub_package_details\n",
      "SELECT * INTO trans_product_pmdm_pmdm. sub_package_pid_sid_relationship _bkp_20_07_23 from trans_product_pmdm_pmdm. sub_package_pid_sid_relationship\n",
      "SELECT * INTO trans_product_pmdm_pmdm. sub_package_type_name _bkp_20_07_23 from trans_product_pmdm_pmdm. sub_package_type_name\n",
      "SELECT * INTO trans_product_pmdm_pmdm. workflow_phase_name _bkp_20_07_23 from trans_product_pmdm_pmdm. workflow_phase_name\n"
     ]
    }
   ],
   "source": [
    "list1=[]\n",
    "with open('untitled.txt') as inp:\n",
    "    for line in inp:\n",
    "        list1.append(line.strip())\n",
    "for i in list1:\n",
    "    print('SELECT * INTO trans_product_pmdm_pmdm.',i,'_bkp_20_07_23 from trans_product_pmdm_pmdm.',i)\n",
    "    "
   ]
  },
  {
   "cell_type": "code",
   "execution_count": null,
   "id": "762db4b3",
   "metadata": {},
   "outputs": [],
   "source": []
  }
 ],
 "metadata": {
  "kernelspec": {
   "display_name": "Python 3 (ipykernel)",
   "language": "python",
   "name": "python3"
  },
  "language_info": {
   "codemirror_mode": {
    "name": "ipython",
    "version": 3
   },
   "file_extension": ".py",
   "mimetype": "text/x-python",
   "name": "python",
   "nbconvert_exporter": "python",
   "pygments_lexer": "ipython3",
   "version": "3.10.7"
  }
 },
 "nbformat": 4,
 "nbformat_minor": 5
}
